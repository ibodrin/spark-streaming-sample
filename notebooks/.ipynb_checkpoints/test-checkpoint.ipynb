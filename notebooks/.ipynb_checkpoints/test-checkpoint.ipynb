{
 "cells": [
  {
   "cell_type": "code",
   "execution_count": null,
   "metadata": {},
   "outputs": [],
   "source": [
    "from pyspark.sql import SparkSession\n",
    "from pyspark.sql.functions import *\n",
    "\n",
    "# Set the location of the Delta Lake and Kafka packages\n",
    "delta_package = \"io.delta:delta-spark_2.12:3.0.0\"  # Replace with the correct Delta version\n",
    "kafka_package = \"org.apache.spark:spark-sql-kafka-0-10_2.12:3.2.1\"  # Replace with the correct Spark version\n",
    "xml_package = \"com.databricks:spark-xml_2.12:0.14.0\"\n",
    "\n",
    "# Initialize Spark Session with Delta Lake and Kafka support\n",
    "spark = SparkSession.builder \\\n",
    "    .appName(\"test\") \\\n",
    "    .config(\"spark.jars.packages\", f\"{delta_package},{xml_package}\") \\\n",
    "    .config(\"spark.sql.extensions\", \"io.delta.sql.DeltaSparkSessionExtension\") \\\n",
    "    .config(\"spark.sql.catalog.spark_catalog\", \"org.apache.spark.sql.delta.catalog.DeltaCatalog\") \\\n",
    "    .getOrCreate()"
   ]
  },
  {
   "cell_type": "code",
   "execution_count": null,
   "metadata": {},
   "outputs": [],
   "source": [
    "from pyspark.sql.functions import col\n",
    "\n",
    "raw_df = spark.read.format('parquet').option(\"mergeSchema\", \"true\").load('hdfs://spark-test1:9000/raw/transactions')\n",
    "raw_df_20 = raw_df.orderBy(col(\"_raw_insert_timestamp\").desc()).limit(20)\n",
    "print(raw_df.count())"
   ]
  },
  {
   "cell_type": "code",
   "execution_count": null,
   "metadata": {},
   "outputs": [],
   "source": [
    "processed_df = spark.read.format('delta').option(\"mergeSchema\", \"true\").load('hdfs://spark-test1:9000/processed/transactions')\n",
    "processed_df_20 = processed_df.orderBy(col(\"_processed_insert_timestamp\").desc()).limit(20)"
   ]
  }
 ],
 "metadata": {
  "kernelspec": {
   "display_name": "Python 3",
   "language": "python",
   "name": "python3"
  },
  "language_info": {
   "codemirror_mode": {
    "name": "ipython",
    "version": 3
   },
   "file_extension": ".py",
   "mimetype": "text/x-python",
   "name": "python",
   "nbconvert_exporter": "python",
   "pygments_lexer": "ipython3",
   "version": "3.10.12"
  }
 },
 "nbformat": 4,
 "nbformat_minor": 2
}
